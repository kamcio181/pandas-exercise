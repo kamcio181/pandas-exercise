{
 "cells": [
  {
   "cell_type": "markdown",
   "metadata": {},
   "source": [
    "# MPG Cars"
   ]
  },
  {
   "cell_type": "markdown",
   "metadata": {},
   "source": [
    "### Introduction:\n",
    "\n",
    "The following exercise utilizes data from [UC Irvine Machine Learning Repository](https://archive.ics.uci.edu/ml/datasets/Auto+MPG)\n",
    "\n",
    "### Step 1. Import the necessary libraries"
   ]
  },
  {
   "cell_type": "code",
   "execution_count": 20,
   "metadata": {
    "ExecuteTime": {
     "end_time": "2018-11-22T15:47:50.708060Z",
     "start_time": "2018-11-22T15:47:50.703551Z"
    }
   },
   "outputs": [],
   "source": [
    "import pandas as pd\n",
    "import numpy as np"
   ]
  },
  {
   "cell_type": "markdown",
   "metadata": {},
   "source": [
    "### Step 2. Import the first dataset [cars1](https://raw.githubusercontent.com/guipsamora/pandas_exercises/master/05_Merge/Auto_MPG/cars1.csv) and [cars2](https://raw.githubusercontent.com/guipsamora/pandas_exercises/master/05_Merge/Auto_MPG/cars2.csv).  "
   ]
  },
  {
   "cell_type": "markdown",
   "metadata": {},
   "source": [
    "   ### Step 3. Assign each to a variable called cars1 and cars2"
   ]
  },
  {
   "cell_type": "code",
   "execution_count": 3,
   "metadata": {
    "ExecuteTime": {
     "end_time": "2018-11-22T15:40:41.308166Z",
     "start_time": "2018-11-22T15:40:37.079881Z"
    }
   },
   "outputs": [],
   "source": [
    "cars1 = pd.read_csv('https://raw.githubusercontent.com/guipsamora/pandas_exercises/master/05_Merge/Auto_MPG/cars1.csv')\n",
    "cars2 = pd.read_csv('https://raw.githubusercontent.com/guipsamora/pandas_exercises/master/05_Merge/Auto_MPG/cars2.csv')"
   ]
  },
  {
   "cell_type": "markdown",
   "metadata": {},
   "source": [
    "### Step 4. Ops it seems our first dataset has some unnamed blank columns, fix cars1"
   ]
  },
  {
   "cell_type": "code",
   "execution_count": 8,
   "metadata": {
    "ExecuteTime": {
     "end_time": "2018-11-22T15:41:58.717457Z",
     "start_time": "2018-11-22T15:41:58.710394Z"
    }
   },
   "outputs": [],
   "source": [
    "cars1.dropna(axis=1, inplace=True)"
   ]
  },
  {
   "cell_type": "markdown",
   "metadata": {},
   "source": [
    "### Step 5. What is the number of observations in each dataset?"
   ]
  },
  {
   "cell_type": "code",
   "execution_count": 10,
   "metadata": {
    "ExecuteTime": {
     "end_time": "2018-11-22T15:42:50.681587Z",
     "start_time": "2018-11-22T15:42:50.656425Z"
    }
   },
   "outputs": [
    {
     "name": "stdout",
     "output_type": "stream",
     "text": [
      "198\n",
      "200\n"
     ]
    },
    {
     "data": {
      "text/html": [
       "<div>\n",
       "<style scoped>\n",
       "    .dataframe tbody tr th:only-of-type {\n",
       "        vertical-align: middle;\n",
       "    }\n",
       "\n",
       "    .dataframe tbody tr th {\n",
       "        vertical-align: top;\n",
       "    }\n",
       "\n",
       "    .dataframe thead th {\n",
       "        text-align: right;\n",
       "    }\n",
       "</style>\n",
       "<table border=\"1\" class=\"dataframe\">\n",
       "  <thead>\n",
       "    <tr style=\"text-align: right;\">\n",
       "      <th></th>\n",
       "      <th>mpg</th>\n",
       "      <th>cylinders</th>\n",
       "      <th>displacement</th>\n",
       "      <th>horsepower</th>\n",
       "      <th>weight</th>\n",
       "      <th>acceleration</th>\n",
       "      <th>model</th>\n",
       "      <th>origin</th>\n",
       "      <th>car</th>\n",
       "    </tr>\n",
       "  </thead>\n",
       "  <tbody>\n",
       "    <tr>\n",
       "      <th>0</th>\n",
       "      <td>33.0</td>\n",
       "      <td>4</td>\n",
       "      <td>91</td>\n",
       "      <td>53</td>\n",
       "      <td>1795</td>\n",
       "      <td>17.4</td>\n",
       "      <td>76</td>\n",
       "      <td>3</td>\n",
       "      <td>honda civic</td>\n",
       "    </tr>\n",
       "    <tr>\n",
       "      <th>1</th>\n",
       "      <td>20.0</td>\n",
       "      <td>6</td>\n",
       "      <td>225</td>\n",
       "      <td>100</td>\n",
       "      <td>3651</td>\n",
       "      <td>17.7</td>\n",
       "      <td>76</td>\n",
       "      <td>1</td>\n",
       "      <td>dodge aspen se</td>\n",
       "    </tr>\n",
       "    <tr>\n",
       "      <th>2</th>\n",
       "      <td>18.0</td>\n",
       "      <td>6</td>\n",
       "      <td>250</td>\n",
       "      <td>78</td>\n",
       "      <td>3574</td>\n",
       "      <td>21.0</td>\n",
       "      <td>76</td>\n",
       "      <td>1</td>\n",
       "      <td>ford granada ghia</td>\n",
       "    </tr>\n",
       "    <tr>\n",
       "      <th>3</th>\n",
       "      <td>18.5</td>\n",
       "      <td>6</td>\n",
       "      <td>250</td>\n",
       "      <td>110</td>\n",
       "      <td>3645</td>\n",
       "      <td>16.2</td>\n",
       "      <td>76</td>\n",
       "      <td>1</td>\n",
       "      <td>pontiac ventura sj</td>\n",
       "    </tr>\n",
       "    <tr>\n",
       "      <th>4</th>\n",
       "      <td>17.5</td>\n",
       "      <td>6</td>\n",
       "      <td>258</td>\n",
       "      <td>95</td>\n",
       "      <td>3193</td>\n",
       "      <td>17.8</td>\n",
       "      <td>76</td>\n",
       "      <td>1</td>\n",
       "      <td>amc pacer d/l</td>\n",
       "    </tr>\n",
       "  </tbody>\n",
       "</table>\n",
       "</div>"
      ],
      "text/plain": [
       "    mpg  cylinders  displacement horsepower  weight  acceleration  model  \\\n",
       "0  33.0          4            91         53    1795          17.4     76   \n",
       "1  20.0          6           225        100    3651          17.7     76   \n",
       "2  18.0          6           250         78    3574          21.0     76   \n",
       "3  18.5          6           250        110    3645          16.2     76   \n",
       "4  17.5          6           258         95    3193          17.8     76   \n",
       "\n",
       "   origin                 car  \n",
       "0       3         honda civic  \n",
       "1       1      dodge aspen se  \n",
       "2       1   ford granada ghia  \n",
       "3       1  pontiac ventura sj  \n",
       "4       1       amc pacer d/l  "
      ]
     },
     "execution_count": 10,
     "metadata": {},
     "output_type": "execute_result"
    }
   ],
   "source": [
    "print(cars1.shape[0])\n",
    "print(cars2.shape[0])"
   ]
  },
  {
   "cell_type": "markdown",
   "metadata": {},
   "source": [
    "### Step 6. Join cars1 and cars2 into a single DataFrame called cars"
   ]
  },
  {
   "cell_type": "code",
   "execution_count": 19,
   "metadata": {
    "ExecuteTime": {
     "end_time": "2018-11-22T15:47:28.481244Z",
     "start_time": "2018-11-22T15:47:28.455972Z"
    }
   },
   "outputs": [
    {
     "data": {
      "text/plain": [
       "(200, 9)"
      ]
     },
     "execution_count": 19,
     "metadata": {},
     "output_type": "execute_result"
    }
   ],
   "source": [
    "cars = cars1.merge(cars2, how='outer') #concat\n",
    "cars.head()"
   ]
  },
  {
   "cell_type": "markdown",
   "metadata": {},
   "source": [
    "### Step 7. Ops there is a column missing, called owners. Create a random number Series from 15,000 to 73,000."
   ]
  },
  {
   "cell_type": "code",
   "execution_count": 22,
   "metadata": {
    "ExecuteTime": {
     "end_time": "2018-11-22T15:49:12.940457Z",
     "start_time": "2018-11-22T15:49:12.932064Z"
    }
   },
   "outputs": [
    {
     "data": {
      "text/plain": [
       "array([38165, 32426, 34614, 26913, 27299, 56580, 56469, 47655, 50408,\n",
       "       29973, 56991, 46827, 72377, 42984, 54272, 51437, 72230, 48032,\n",
       "       40813, 18225, 47621, 31484, 43467, 31567, 35616, 35396, 16011,\n",
       "       47534, 19360, 30781, 53611, 47701, 17003, 42826, 48373, 70630,\n",
       "       15978, 18726, 37972, 61785, 43906, 39249, 31395, 29727, 23420,\n",
       "       45453, 47390, 60562, 47020, 50915, 17771, 51788, 60182, 22018,\n",
       "       23555, 38938, 25896, 27468, 59781, 52537, 19965, 58548, 48143,\n",
       "       59946, 68719, 65909, 50194, 60326, 55408, 33359, 24345, 55798,\n",
       "       55622, 37788, 27041, 25298, 24075, 65723, 66745, 15858, 70036,\n",
       "       70729, 38585, 21358, 60122, 15617, 36791, 70664, 48514, 66428,\n",
       "       19440, 69550, 56391, 30172, 17212, 21320, 40551, 34615, 21733,\n",
       "       30302, 49903, 40149, 67842, 39810, 18461, 51846, 40115, 24071,\n",
       "       72577, 59993, 48373, 22970, 55663, 21278, 34208, 55999, 19905,\n",
       "       22214, 19457, 51625, 32503, 60130, 69764, 23162, 70714, 16963,\n",
       "       16098, 48279, 65203, 37668, 44344, 45121, 25856, 48286, 64867,\n",
       "       59934, 31455, 52463, 21053, 39062, 63586, 63129, 53699, 33054,\n",
       "       47663, 35940, 39010, 65924, 38618, 41742, 62909, 15124, 20474,\n",
       "       64643, 71072, 21537, 57498, 63301, 50779, 59012, 70244, 26174,\n",
       "       27631, 21158, 16847, 50763, 57822, 61218, 32994, 26313, 22033,\n",
       "       33626, 72738, 49775, 57639, 54063, 56914, 67051, 52392, 67754,\n",
       "       16875, 72670, 43158, 58463, 24858, 23821, 33628, 28622, 59351,\n",
       "       67518, 20876, 69406, 28006, 35578, 56978, 16435, 71747, 27740,\n",
       "       24114, 15336, 42287, 53195, 44885, 22084, 31216, 69494, 60895,\n",
       "       62700, 22797, 60648, 68147, 56506, 72560, 33247, 50482, 26181,\n",
       "       24621, 43651, 39895, 16831, 68496, 70463, 53341, 27275, 60496,\n",
       "       50586, 55259, 40702, 33949, 25871, 36822, 72248, 67081, 50188,\n",
       "       43305, 52820, 53123, 56388, 45295, 23789, 43127, 59783, 38564,\n",
       "       39944, 59234, 64184, 18434, 35485, 62386, 61346, 53320, 61093,\n",
       "       32772, 55651, 51174, 28226, 52486, 51450, 60645, 65160, 42697,\n",
       "       47184, 41726, 60153, 55274, 72914, 27700, 27114, 50063, 57105,\n",
       "       20377, 60947, 43519, 20531, 22106, 37656, 56423, 27191, 29562,\n",
       "       38859, 30969, 22762, 25484, 69525, 36697, 70318, 26947, 56821,\n",
       "       72027, 16739, 31137, 51048, 32675, 44974, 34734, 26225, 17549,\n",
       "       41494, 37296, 40833, 43970, 33620, 68742, 69162, 41615, 19117,\n",
       "       25620, 70406, 19597, 43097, 20936, 61560, 26311, 45973, 30829,\n",
       "       29622, 45292, 19208, 20464, 19106, 61941, 15207, 16675, 19262,\n",
       "       30038, 35872, 41044, 38857, 40155, 43569, 47189, 39158, 67341,\n",
       "       45123, 61322, 22558, 59761, 40897, 57473, 34404, 71390, 51075,\n",
       "       41798, 31170, 63527, 59953, 15596, 24770, 42884, 70280, 21797,\n",
       "       65325, 37047, 41296, 62036, 67517, 70276, 26851, 59065, 63669,\n",
       "       58292, 15575, 38836, 62360, 67735, 65526, 62820, 55582, 63683,\n",
       "       16995, 30023, 69892, 64895, 20257, 26040, 43606, 68318, 34145,\n",
       "       46069, 26215, 21585, 30209, 27013, 50146, 17024, 71605, 27380,\n",
       "       27877, 21546, 59537, 72536, 33987, 25326, 23455, 58216, 49354,\n",
       "       69836, 53979])"
      ]
     },
     "execution_count": 22,
     "metadata": {},
     "output_type": "execute_result"
    }
   ],
   "source": [
    "owners = np.random.randint(15000, 73001, cars.shape[0])\n",
    "owners"
   ]
  },
  {
   "cell_type": "markdown",
   "metadata": {},
   "source": [
    "### Step 8. Add the column owners to cars"
   ]
  },
  {
   "cell_type": "code",
   "execution_count": 25,
   "metadata": {
    "ExecuteTime": {
     "end_time": "2018-11-22T15:50:00.991715Z",
     "start_time": "2018-11-22T15:50:00.968379Z"
    }
   },
   "outputs": [
    {
     "data": {
      "text/html": [
       "<div>\n",
       "<style scoped>\n",
       "    .dataframe tbody tr th:only-of-type {\n",
       "        vertical-align: middle;\n",
       "    }\n",
       "\n",
       "    .dataframe tbody tr th {\n",
       "        vertical-align: top;\n",
       "    }\n",
       "\n",
       "    .dataframe thead th {\n",
       "        text-align: right;\n",
       "    }\n",
       "</style>\n",
       "<table border=\"1\" class=\"dataframe\">\n",
       "  <thead>\n",
       "    <tr style=\"text-align: right;\">\n",
       "      <th></th>\n",
       "      <th>mpg</th>\n",
       "      <th>cylinders</th>\n",
       "      <th>displacement</th>\n",
       "      <th>horsepower</th>\n",
       "      <th>weight</th>\n",
       "      <th>acceleration</th>\n",
       "      <th>model</th>\n",
       "      <th>origin</th>\n",
       "      <th>car</th>\n",
       "      <th>owners</th>\n",
       "    </tr>\n",
       "  </thead>\n",
       "  <tbody>\n",
       "    <tr>\n",
       "      <th>393</th>\n",
       "      <td>27.0</td>\n",
       "      <td>4</td>\n",
       "      <td>140</td>\n",
       "      <td>86</td>\n",
       "      <td>2790</td>\n",
       "      <td>15.6</td>\n",
       "      <td>82</td>\n",
       "      <td>1</td>\n",
       "      <td>ford mustang gl</td>\n",
       "      <td>23455</td>\n",
       "    </tr>\n",
       "    <tr>\n",
       "      <th>394</th>\n",
       "      <td>44.0</td>\n",
       "      <td>4</td>\n",
       "      <td>97</td>\n",
       "      <td>52</td>\n",
       "      <td>2130</td>\n",
       "      <td>24.6</td>\n",
       "      <td>82</td>\n",
       "      <td>2</td>\n",
       "      <td>vw pickup</td>\n",
       "      <td>58216</td>\n",
       "    </tr>\n",
       "    <tr>\n",
       "      <th>395</th>\n",
       "      <td>32.0</td>\n",
       "      <td>4</td>\n",
       "      <td>135</td>\n",
       "      <td>84</td>\n",
       "      <td>2295</td>\n",
       "      <td>11.6</td>\n",
       "      <td>82</td>\n",
       "      <td>1</td>\n",
       "      <td>dodge rampage</td>\n",
       "      <td>49354</td>\n",
       "    </tr>\n",
       "    <tr>\n",
       "      <th>396</th>\n",
       "      <td>28.0</td>\n",
       "      <td>4</td>\n",
       "      <td>120</td>\n",
       "      <td>79</td>\n",
       "      <td>2625</td>\n",
       "      <td>18.6</td>\n",
       "      <td>82</td>\n",
       "      <td>1</td>\n",
       "      <td>ford ranger</td>\n",
       "      <td>69836</td>\n",
       "    </tr>\n",
       "    <tr>\n",
       "      <th>397</th>\n",
       "      <td>31.0</td>\n",
       "      <td>4</td>\n",
       "      <td>119</td>\n",
       "      <td>82</td>\n",
       "      <td>2720</td>\n",
       "      <td>19.4</td>\n",
       "      <td>82</td>\n",
       "      <td>1</td>\n",
       "      <td>chevy s-10</td>\n",
       "      <td>53979</td>\n",
       "    </tr>\n",
       "  </tbody>\n",
       "</table>\n",
       "</div>"
      ],
      "text/plain": [
       "      mpg  cylinders  displacement horsepower  weight  acceleration  model  \\\n",
       "393  27.0          4           140         86    2790          15.6     82   \n",
       "394  44.0          4            97         52    2130          24.6     82   \n",
       "395  32.0          4           135         84    2295          11.6     82   \n",
       "396  28.0          4           120         79    2625          18.6     82   \n",
       "397  31.0          4           119         82    2720          19.4     82   \n",
       "\n",
       "     origin              car  owners  \n",
       "393       1  ford mustang gl   23455  \n",
       "394       2        vw pickup   58216  \n",
       "395       1    dodge rampage   49354  \n",
       "396       1      ford ranger   69836  \n",
       "397       1       chevy s-10   53979  "
      ]
     },
     "execution_count": 25,
     "metadata": {},
     "output_type": "execute_result"
    }
   ],
   "source": [
    "cars['owners'] = owners\n",
    "cars.tail()"
   ]
  }
 ],
 "metadata": {
  "anaconda-cloud": {},
  "kernelspec": {
   "display_name": "Python 3",
   "language": "python",
   "name": "python3"
  },
  "language_info": {
   "codemirror_mode": {
    "name": "ipython",
    "version": 3
   },
   "file_extension": ".py",
   "mimetype": "text/x-python",
   "name": "python",
   "nbconvert_exporter": "python",
   "pygments_lexer": "ipython3",
   "version": "3.7.0"
  }
 },
 "nbformat": 4,
 "nbformat_minor": 1
}
